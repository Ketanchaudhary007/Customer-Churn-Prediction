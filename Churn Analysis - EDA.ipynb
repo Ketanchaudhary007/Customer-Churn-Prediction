{
 "cells": [
  {
   "cell_type": "markdown",
   "metadata": {
    "_uuid": "3544313683eb7fc71db62dea38a54a3482efec26"
   },
   "source": [
    "# Telco Churn Analysis"
   ]
  },
  {
   "cell_type": "markdown",
   "metadata": {
    "_uuid": "482057581152ac07ea4113aebf81ec6940aa7621"
   },
   "source": [
    "**Dataset Info:**\n",
    "Sample Data Set containing Telco customer data and showing customers left last month"
   ]
  },
  {
   "cell_type": "code",
   "execution_count": 1,
   "metadata": {
    "_cell_guid": "b1076dfc-b9ad-4769-8c92-a6c4dae69d19",
    "_uuid": "8f2839f25d086af736a60e9eeb907d3b93b6e0e5"
   },
   "outputs": [],
   "source": [
    "#import the required libraries\n",
    "import numpy as np \n",
    "import pandas as pd \n",
    "import seaborn as sns \n",
    "import matplotlib.ticker as mtick  \n",
    "import matplotlib.pyplot as plt\n",
    "%matplotlib inline"
   ]
  },
  {
   "cell_type": "markdown",
   "metadata": {
    "_uuid": "72e4750b2861fe4d89197b4c73ad861544701c4f"
   },
   "source": [
    "**Load the data file **"
   ]
  },
  {
   "cell_type": "code",
   "execution_count": 2,
   "metadata": {
    "_cell_guid": "79c7e3d0-c299-4dcb-8224-4455121ee9b0",
    "_uuid": "d629ff2d2480ee46fbb7e2d37f6b5fab8052498a"
   },
   "outputs": [],
   "source": [
    "telco_base_data = pd.read_csv(r\"C:\\Users\\91805\\OneDrive\\Desktop\\churn project\\tel_churn.csv\")"
   ]
  },
  {
   "cell_type": "markdown",
   "metadata": {
    "_uuid": "2fd3487ed44d19c9794c5480e8c90078eebbbef6"
   },
   "source": [
    "Look at the top 5 records of data"
   ]
  },
  {
   "cell_type": "code",
   "execution_count": 3,
   "metadata": {
    "_uuid": "9dc64474af58b8114afb60f83cd1a002722ba74c",
    "scrolled": true
   },
   "outputs": [
    {
     "data": {
      "text/html": [
       "<div>\n",
       "<style scoped>\n",
       "    .dataframe tbody tr th:only-of-type {\n",
       "        vertical-align: middle;\n",
       "    }\n",
       "\n",
       "    .dataframe tbody tr th {\n",
       "        vertical-align: top;\n",
       "    }\n",
       "\n",
       "    .dataframe thead th {\n",
       "        text-align: right;\n",
       "    }\n",
       "</style>\n",
       "<table border=\"1\" class=\"dataframe\">\n",
       "  <thead>\n",
       "    <tr style=\"text-align: right;\">\n",
       "      <th></th>\n",
       "      <th>Unnamed: 0</th>\n",
       "      <th>SeniorCitizen</th>\n",
       "      <th>MonthlyCharges</th>\n",
       "      <th>TotalCharges</th>\n",
       "      <th>Churn</th>\n",
       "      <th>gender_Female</th>\n",
       "      <th>gender_Male</th>\n",
       "      <th>Partner_No</th>\n",
       "      <th>Partner_Yes</th>\n",
       "      <th>Dependents_No</th>\n",
       "      <th>...</th>\n",
       "      <th>PaymentMethod_Bank transfer (automatic)</th>\n",
       "      <th>PaymentMethod_Credit card (automatic)</th>\n",
       "      <th>PaymentMethod_Electronic check</th>\n",
       "      <th>PaymentMethod_Mailed check</th>\n",
       "      <th>tenure_group_1 - 12</th>\n",
       "      <th>tenure_group_13 - 24</th>\n",
       "      <th>tenure_group_25 - 36</th>\n",
       "      <th>tenure_group_37 - 48</th>\n",
       "      <th>tenure_group_49 - 60</th>\n",
       "      <th>tenure_group_61 - 72</th>\n",
       "    </tr>\n",
       "  </thead>\n",
       "  <tbody>\n",
       "    <tr>\n",
       "      <th>0</th>\n",
       "      <td>0</td>\n",
       "      <td>0</td>\n",
       "      <td>29.85</td>\n",
       "      <td>29.85</td>\n",
       "      <td>0</td>\n",
       "      <td>1</td>\n",
       "      <td>0</td>\n",
       "      <td>0</td>\n",
       "      <td>1</td>\n",
       "      <td>1</td>\n",
       "      <td>...</td>\n",
       "      <td>0</td>\n",
       "      <td>0</td>\n",
       "      <td>1</td>\n",
       "      <td>0</td>\n",
       "      <td>1</td>\n",
       "      <td>0</td>\n",
       "      <td>0</td>\n",
       "      <td>0</td>\n",
       "      <td>0</td>\n",
       "      <td>0</td>\n",
       "    </tr>\n",
       "    <tr>\n",
       "      <th>1</th>\n",
       "      <td>1</td>\n",
       "      <td>0</td>\n",
       "      <td>56.95</td>\n",
       "      <td>1889.50</td>\n",
       "      <td>0</td>\n",
       "      <td>0</td>\n",
       "      <td>1</td>\n",
       "      <td>1</td>\n",
       "      <td>0</td>\n",
       "      <td>1</td>\n",
       "      <td>...</td>\n",
       "      <td>0</td>\n",
       "      <td>0</td>\n",
       "      <td>0</td>\n",
       "      <td>1</td>\n",
       "      <td>0</td>\n",
       "      <td>0</td>\n",
       "      <td>1</td>\n",
       "      <td>0</td>\n",
       "      <td>0</td>\n",
       "      <td>0</td>\n",
       "    </tr>\n",
       "    <tr>\n",
       "      <th>2</th>\n",
       "      <td>2</td>\n",
       "      <td>0</td>\n",
       "      <td>53.85</td>\n",
       "      <td>108.15</td>\n",
       "      <td>1</td>\n",
       "      <td>0</td>\n",
       "      <td>1</td>\n",
       "      <td>1</td>\n",
       "      <td>0</td>\n",
       "      <td>1</td>\n",
       "      <td>...</td>\n",
       "      <td>0</td>\n",
       "      <td>0</td>\n",
       "      <td>0</td>\n",
       "      <td>1</td>\n",
       "      <td>1</td>\n",
       "      <td>0</td>\n",
       "      <td>0</td>\n",
       "      <td>0</td>\n",
       "      <td>0</td>\n",
       "      <td>0</td>\n",
       "    </tr>\n",
       "    <tr>\n",
       "      <th>3</th>\n",
       "      <td>3</td>\n",
       "      <td>0</td>\n",
       "      <td>42.30</td>\n",
       "      <td>1840.75</td>\n",
       "      <td>0</td>\n",
       "      <td>0</td>\n",
       "      <td>1</td>\n",
       "      <td>1</td>\n",
       "      <td>0</td>\n",
       "      <td>1</td>\n",
       "      <td>...</td>\n",
       "      <td>1</td>\n",
       "      <td>0</td>\n",
       "      <td>0</td>\n",
       "      <td>0</td>\n",
       "      <td>0</td>\n",
       "      <td>0</td>\n",
       "      <td>0</td>\n",
       "      <td>1</td>\n",
       "      <td>0</td>\n",
       "      <td>0</td>\n",
       "    </tr>\n",
       "    <tr>\n",
       "      <th>4</th>\n",
       "      <td>4</td>\n",
       "      <td>0</td>\n",
       "      <td>70.70</td>\n",
       "      <td>151.65</td>\n",
       "      <td>1</td>\n",
       "      <td>1</td>\n",
       "      <td>0</td>\n",
       "      <td>1</td>\n",
       "      <td>0</td>\n",
       "      <td>1</td>\n",
       "      <td>...</td>\n",
       "      <td>0</td>\n",
       "      <td>0</td>\n",
       "      <td>1</td>\n",
       "      <td>0</td>\n",
       "      <td>1</td>\n",
       "      <td>0</td>\n",
       "      <td>0</td>\n",
       "      <td>0</td>\n",
       "      <td>0</td>\n",
       "      <td>0</td>\n",
       "    </tr>\n",
       "  </tbody>\n",
       "</table>\n",
       "<p>5 rows × 52 columns</p>\n",
       "</div>"
      ],
      "text/plain": [
       "   Unnamed: 0  SeniorCitizen  MonthlyCharges  TotalCharges  Churn  \\\n",
       "0           0              0           29.85         29.85      0   \n",
       "1           1              0           56.95       1889.50      0   \n",
       "2           2              0           53.85        108.15      1   \n",
       "3           3              0           42.30       1840.75      0   \n",
       "4           4              0           70.70        151.65      1   \n",
       "\n",
       "   gender_Female  gender_Male  Partner_No  Partner_Yes  Dependents_No  ...  \\\n",
       "0              1            0           0            1              1  ...   \n",
       "1              0            1           1            0              1  ...   \n",
       "2              0            1           1            0              1  ...   \n",
       "3              0            1           1            0              1  ...   \n",
       "4              1            0           1            0              1  ...   \n",
       "\n",
       "   PaymentMethod_Bank transfer (automatic)  \\\n",
       "0                                        0   \n",
       "1                                        0   \n",
       "2                                        0   \n",
       "3                                        1   \n",
       "4                                        0   \n",
       "\n",
       "   PaymentMethod_Credit card (automatic)  PaymentMethod_Electronic check  \\\n",
       "0                                      0                               1   \n",
       "1                                      0                               0   \n",
       "2                                      0                               0   \n",
       "3                                      0                               0   \n",
       "4                                      0                               1   \n",
       "\n",
       "   PaymentMethod_Mailed check  tenure_group_1 - 12  tenure_group_13 - 24  \\\n",
       "0                           0                    1                     0   \n",
       "1                           1                    0                     0   \n",
       "2                           1                    1                     0   \n",
       "3                           0                    0                     0   \n",
       "4                           0                    1                     0   \n",
       "\n",
       "   tenure_group_25 - 36  tenure_group_37 - 48  tenure_group_49 - 60  \\\n",
       "0                     0                     0                     0   \n",
       "1                     1                     0                     0   \n",
       "2                     0                     0                     0   \n",
       "3                     0                     1                     0   \n",
       "4                     0                     0                     0   \n",
       "\n",
       "   tenure_group_61 - 72  \n",
       "0                     0  \n",
       "1                     0  \n",
       "2                     0  \n",
       "3                     0  \n",
       "4                     0  \n",
       "\n",
       "[5 rows x 52 columns]"
      ]
     },
     "execution_count": 3,
     "metadata": {},
     "output_type": "execute_result"
    }
   ],
   "source": [
    "telco_base_data.head()"
   ]
  },
  {
   "cell_type": "markdown",
   "metadata": {
    "_uuid": "09146f5b98d0ef400d5f646625ad383bce793af5"
   },
   "source": [
    "Check the various attributes of data like shape (rows and cols), Columns, datatypes"
   ]
  },
  {
   "cell_type": "code",
   "execution_count": 4,
   "metadata": {
    "_uuid": "b133d965a6a850e066086ca27f3957af3afec0a1"
   },
   "outputs": [
    {
     "data": {
      "text/plain": [
       "(7032, 52)"
      ]
     },
     "execution_count": 4,
     "metadata": {},
     "output_type": "execute_result"
    }
   ],
   "source": [
    "telco_base_data.shape"
   ]
  },
  {
   "cell_type": "code",
   "execution_count": 5,
   "metadata": {
    "_uuid": "d814e5db6f76a4e90b8496f09d0ba340d1eae808",
    "scrolled": true
   },
   "outputs": [
    {
     "data": {
      "text/plain": [
       "array(['Unnamed: 0', 'SeniorCitizen', 'MonthlyCharges', 'TotalCharges',\n",
       "       'Churn', 'gender_Female', 'gender_Male', 'Partner_No',\n",
       "       'Partner_Yes', 'Dependents_No', 'Dependents_Yes',\n",
       "       'PhoneService_No', 'PhoneService_Yes', 'MultipleLines_No',\n",
       "       'MultipleLines_No phone service', 'MultipleLines_Yes',\n",
       "       'InternetService_DSL', 'InternetService_Fiber optic',\n",
       "       'InternetService_No', 'OnlineSecurity_No',\n",
       "       'OnlineSecurity_No internet service', 'OnlineSecurity_Yes',\n",
       "       'OnlineBackup_No', 'OnlineBackup_No internet service',\n",
       "       'OnlineBackup_Yes', 'DeviceProtection_No',\n",
       "       'DeviceProtection_No internet service', 'DeviceProtection_Yes',\n",
       "       'TechSupport_No', 'TechSupport_No internet service',\n",
       "       'TechSupport_Yes', 'StreamingTV_No',\n",
       "       'StreamingTV_No internet service', 'StreamingTV_Yes',\n",
       "       'StreamingMovies_No', 'StreamingMovies_No internet service',\n",
       "       'StreamingMovies_Yes', 'Contract_Month-to-month',\n",
       "       'Contract_One year', 'Contract_Two year', 'PaperlessBilling_No',\n",
       "       'PaperlessBilling_Yes', 'PaymentMethod_Bank transfer (automatic)',\n",
       "       'PaymentMethod_Credit card (automatic)',\n",
       "       'PaymentMethod_Electronic check', 'PaymentMethod_Mailed check',\n",
       "       'tenure_group_1 - 12', 'tenure_group_13 - 24',\n",
       "       'tenure_group_25 - 36', 'tenure_group_37 - 48',\n",
       "       'tenure_group_49 - 60', 'tenure_group_61 - 72'], dtype=object)"
      ]
     },
     "execution_count": 5,
     "metadata": {},
     "output_type": "execute_result"
    }
   ],
   "source": [
    "telco_base_data.columns.values"
   ]
  },
  {
   "cell_type": "code",
   "execution_count": 6,
   "metadata": {
    "_uuid": "641531c5f3131228c78e6a200e0410a161ccb2b0"
   },
   "outputs": [
    {
     "data": {
      "text/plain": [
       "Unnamed: 0                                   int64\n",
       "SeniorCitizen                                int64\n",
       "MonthlyCharges                             float64\n",
       "TotalCharges                               float64\n",
       "Churn                                        int64\n",
       "gender_Female                                int64\n",
       "gender_Male                                  int64\n",
       "Partner_No                                   int64\n",
       "Partner_Yes                                  int64\n",
       "Dependents_No                                int64\n",
       "Dependents_Yes                               int64\n",
       "PhoneService_No                              int64\n",
       "PhoneService_Yes                             int64\n",
       "MultipleLines_No                             int64\n",
       "MultipleLines_No phone service               int64\n",
       "MultipleLines_Yes                            int64\n",
       "InternetService_DSL                          int64\n",
       "InternetService_Fiber optic                  int64\n",
       "InternetService_No                           int64\n",
       "OnlineSecurity_No                            int64\n",
       "OnlineSecurity_No internet service           int64\n",
       "OnlineSecurity_Yes                           int64\n",
       "OnlineBackup_No                              int64\n",
       "OnlineBackup_No internet service             int64\n",
       "OnlineBackup_Yes                             int64\n",
       "DeviceProtection_No                          int64\n",
       "DeviceProtection_No internet service         int64\n",
       "DeviceProtection_Yes                         int64\n",
       "TechSupport_No                               int64\n",
       "TechSupport_No internet service              int64\n",
       "TechSupport_Yes                              int64\n",
       "StreamingTV_No                               int64\n",
       "StreamingTV_No internet service              int64\n",
       "StreamingTV_Yes                              int64\n",
       "StreamingMovies_No                           int64\n",
       "StreamingMovies_No internet service          int64\n",
       "StreamingMovies_Yes                          int64\n",
       "Contract_Month-to-month                      int64\n",
       "Contract_One year                            int64\n",
       "Contract_Two year                            int64\n",
       "PaperlessBilling_No                          int64\n",
       "PaperlessBilling_Yes                         int64\n",
       "PaymentMethod_Bank transfer (automatic)      int64\n",
       "PaymentMethod_Credit card (automatic)        int64\n",
       "PaymentMethod_Electronic check               int64\n",
       "PaymentMethod_Mailed check                   int64\n",
       "tenure_group_1 - 12                          int64\n",
       "tenure_group_13 - 24                         int64\n",
       "tenure_group_25 - 36                         int64\n",
       "tenure_group_37 - 48                         int64\n",
       "tenure_group_49 - 60                         int64\n",
       "tenure_group_61 - 72                         int64\n",
       "dtype: object"
      ]
     },
     "execution_count": 6,
     "metadata": {},
     "output_type": "execute_result"
    }
   ],
   "source": [
    "# Checking the data types of all the columns\n",
    "telco_base_data.dtypes"
   ]
  },
  {
   "cell_type": "code",
   "execution_count": 7,
   "metadata": {
    "_uuid": "04c3c0507e827f4c5b06c2d47441055a2cebc1bb"
   },
   "outputs": [
    {
     "data": {
      "text/html": [
       "<div>\n",
       "<style scoped>\n",
       "    .dataframe tbody tr th:only-of-type {\n",
       "        vertical-align: middle;\n",
       "    }\n",
       "\n",
       "    .dataframe tbody tr th {\n",
       "        vertical-align: top;\n",
       "    }\n",
       "\n",
       "    .dataframe thead th {\n",
       "        text-align: right;\n",
       "    }\n",
       "</style>\n",
       "<table border=\"1\" class=\"dataframe\">\n",
       "  <thead>\n",
       "    <tr style=\"text-align: right;\">\n",
       "      <th></th>\n",
       "      <th>Unnamed: 0</th>\n",
       "      <th>SeniorCitizen</th>\n",
       "      <th>MonthlyCharges</th>\n",
       "      <th>TotalCharges</th>\n",
       "      <th>Churn</th>\n",
       "      <th>gender_Female</th>\n",
       "      <th>gender_Male</th>\n",
       "      <th>Partner_No</th>\n",
       "      <th>Partner_Yes</th>\n",
       "      <th>Dependents_No</th>\n",
       "      <th>...</th>\n",
       "      <th>PaymentMethod_Bank transfer (automatic)</th>\n",
       "      <th>PaymentMethod_Credit card (automatic)</th>\n",
       "      <th>PaymentMethod_Electronic check</th>\n",
       "      <th>PaymentMethod_Mailed check</th>\n",
       "      <th>tenure_group_1 - 12</th>\n",
       "      <th>tenure_group_13 - 24</th>\n",
       "      <th>tenure_group_25 - 36</th>\n",
       "      <th>tenure_group_37 - 48</th>\n",
       "      <th>tenure_group_49 - 60</th>\n",
       "      <th>tenure_group_61 - 72</th>\n",
       "    </tr>\n",
       "  </thead>\n",
       "  <tbody>\n",
       "    <tr>\n",
       "      <th>count</th>\n",
       "      <td>7032.000000</td>\n",
       "      <td>7032.000000</td>\n",
       "      <td>7032.000000</td>\n",
       "      <td>7032.000000</td>\n",
       "      <td>7032.000000</td>\n",
       "      <td>7032.000000</td>\n",
       "      <td>7032.000000</td>\n",
       "      <td>7032.000000</td>\n",
       "      <td>7032.000000</td>\n",
       "      <td>7032.000000</td>\n",
       "      <td>...</td>\n",
       "      <td>7032.000000</td>\n",
       "      <td>7032.000000</td>\n",
       "      <td>7032.000000</td>\n",
       "      <td>7032.000000</td>\n",
       "      <td>7032.000000</td>\n",
       "      <td>7032.00000</td>\n",
       "      <td>7032.000000</td>\n",
       "      <td>7032.000000</td>\n",
       "      <td>7032.000000</td>\n",
       "      <td>7032.000000</td>\n",
       "    </tr>\n",
       "    <tr>\n",
       "      <th>mean</th>\n",
       "      <td>3521.562144</td>\n",
       "      <td>0.162400</td>\n",
       "      <td>64.798208</td>\n",
       "      <td>2283.300441</td>\n",
       "      <td>0.265785</td>\n",
       "      <td>0.495307</td>\n",
       "      <td>0.504693</td>\n",
       "      <td>0.517491</td>\n",
       "      <td>0.482509</td>\n",
       "      <td>0.701507</td>\n",
       "      <td>...</td>\n",
       "      <td>0.219283</td>\n",
       "      <td>0.216297</td>\n",
       "      <td>0.336320</td>\n",
       "      <td>0.228100</td>\n",
       "      <td>0.309300</td>\n",
       "      <td>0.14562</td>\n",
       "      <td>0.118316</td>\n",
       "      <td>0.108362</td>\n",
       "      <td>0.118316</td>\n",
       "      <td>0.200085</td>\n",
       "    </tr>\n",
       "    <tr>\n",
       "      <th>std</th>\n",
       "      <td>2032.832448</td>\n",
       "      <td>0.368844</td>\n",
       "      <td>30.085974</td>\n",
       "      <td>2266.771362</td>\n",
       "      <td>0.441782</td>\n",
       "      <td>0.500014</td>\n",
       "      <td>0.500014</td>\n",
       "      <td>0.499729</td>\n",
       "      <td>0.499729</td>\n",
       "      <td>0.457629</td>\n",
       "      <td>...</td>\n",
       "      <td>0.413790</td>\n",
       "      <td>0.411748</td>\n",
       "      <td>0.472483</td>\n",
       "      <td>0.419637</td>\n",
       "      <td>0.462238</td>\n",
       "      <td>0.35275</td>\n",
       "      <td>0.323005</td>\n",
       "      <td>0.310859</td>\n",
       "      <td>0.323005</td>\n",
       "      <td>0.400092</td>\n",
       "    </tr>\n",
       "    <tr>\n",
       "      <th>min</th>\n",
       "      <td>0.000000</td>\n",
       "      <td>0.000000</td>\n",
       "      <td>18.250000</td>\n",
       "      <td>18.800000</td>\n",
       "      <td>0.000000</td>\n",
       "      <td>0.000000</td>\n",
       "      <td>0.000000</td>\n",
       "      <td>0.000000</td>\n",
       "      <td>0.000000</td>\n",
       "      <td>0.000000</td>\n",
       "      <td>...</td>\n",
       "      <td>0.000000</td>\n",
       "      <td>0.000000</td>\n",
       "      <td>0.000000</td>\n",
       "      <td>0.000000</td>\n",
       "      <td>0.000000</td>\n",
       "      <td>0.00000</td>\n",
       "      <td>0.000000</td>\n",
       "      <td>0.000000</td>\n",
       "      <td>0.000000</td>\n",
       "      <td>0.000000</td>\n",
       "    </tr>\n",
       "    <tr>\n",
       "      <th>25%</th>\n",
       "      <td>1762.750000</td>\n",
       "      <td>0.000000</td>\n",
       "      <td>35.587500</td>\n",
       "      <td>401.450000</td>\n",
       "      <td>0.000000</td>\n",
       "      <td>0.000000</td>\n",
       "      <td>0.000000</td>\n",
       "      <td>0.000000</td>\n",
       "      <td>0.000000</td>\n",
       "      <td>0.000000</td>\n",
       "      <td>...</td>\n",
       "      <td>0.000000</td>\n",
       "      <td>0.000000</td>\n",
       "      <td>0.000000</td>\n",
       "      <td>0.000000</td>\n",
       "      <td>0.000000</td>\n",
       "      <td>0.00000</td>\n",
       "      <td>0.000000</td>\n",
       "      <td>0.000000</td>\n",
       "      <td>0.000000</td>\n",
       "      <td>0.000000</td>\n",
       "    </tr>\n",
       "    <tr>\n",
       "      <th>50%</th>\n",
       "      <td>3521.500000</td>\n",
       "      <td>0.000000</td>\n",
       "      <td>70.350000</td>\n",
       "      <td>1397.475000</td>\n",
       "      <td>0.000000</td>\n",
       "      <td>0.000000</td>\n",
       "      <td>1.000000</td>\n",
       "      <td>1.000000</td>\n",
       "      <td>0.000000</td>\n",
       "      <td>1.000000</td>\n",
       "      <td>...</td>\n",
       "      <td>0.000000</td>\n",
       "      <td>0.000000</td>\n",
       "      <td>0.000000</td>\n",
       "      <td>0.000000</td>\n",
       "      <td>0.000000</td>\n",
       "      <td>0.00000</td>\n",
       "      <td>0.000000</td>\n",
       "      <td>0.000000</td>\n",
       "      <td>0.000000</td>\n",
       "      <td>0.000000</td>\n",
       "    </tr>\n",
       "    <tr>\n",
       "      <th>75%</th>\n",
       "      <td>5282.250000</td>\n",
       "      <td>0.000000</td>\n",
       "      <td>89.862500</td>\n",
       "      <td>3794.737500</td>\n",
       "      <td>1.000000</td>\n",
       "      <td>1.000000</td>\n",
       "      <td>1.000000</td>\n",
       "      <td>1.000000</td>\n",
       "      <td>1.000000</td>\n",
       "      <td>1.000000</td>\n",
       "      <td>...</td>\n",
       "      <td>0.000000</td>\n",
       "      <td>0.000000</td>\n",
       "      <td>1.000000</td>\n",
       "      <td>0.000000</td>\n",
       "      <td>1.000000</td>\n",
       "      <td>0.00000</td>\n",
       "      <td>0.000000</td>\n",
       "      <td>0.000000</td>\n",
       "      <td>0.000000</td>\n",
       "      <td>0.000000</td>\n",
       "    </tr>\n",
       "    <tr>\n",
       "      <th>max</th>\n",
       "      <td>7042.000000</td>\n",
       "      <td>1.000000</td>\n",
       "      <td>118.750000</td>\n",
       "      <td>8684.800000</td>\n",
       "      <td>1.000000</td>\n",
       "      <td>1.000000</td>\n",
       "      <td>1.000000</td>\n",
       "      <td>1.000000</td>\n",
       "      <td>1.000000</td>\n",
       "      <td>1.000000</td>\n",
       "      <td>...</td>\n",
       "      <td>1.000000</td>\n",
       "      <td>1.000000</td>\n",
       "      <td>1.000000</td>\n",
       "      <td>1.000000</td>\n",
       "      <td>1.000000</td>\n",
       "      <td>1.00000</td>\n",
       "      <td>1.000000</td>\n",
       "      <td>1.000000</td>\n",
       "      <td>1.000000</td>\n",
       "      <td>1.000000</td>\n",
       "    </tr>\n",
       "  </tbody>\n",
       "</table>\n",
       "<p>8 rows × 52 columns</p>\n",
       "</div>"
      ],
      "text/plain": [
       "        Unnamed: 0  SeniorCitizen  MonthlyCharges  TotalCharges        Churn  \\\n",
       "count  7032.000000    7032.000000     7032.000000   7032.000000  7032.000000   \n",
       "mean   3521.562144       0.162400       64.798208   2283.300441     0.265785   \n",
       "std    2032.832448       0.368844       30.085974   2266.771362     0.441782   \n",
       "min       0.000000       0.000000       18.250000     18.800000     0.000000   \n",
       "25%    1762.750000       0.000000       35.587500    401.450000     0.000000   \n",
       "50%    3521.500000       0.000000       70.350000   1397.475000     0.000000   \n",
       "75%    5282.250000       0.000000       89.862500   3794.737500     1.000000   \n",
       "max    7042.000000       1.000000      118.750000   8684.800000     1.000000   \n",
       "\n",
       "       gender_Female  gender_Male   Partner_No  Partner_Yes  Dependents_No  \\\n",
       "count    7032.000000  7032.000000  7032.000000  7032.000000    7032.000000   \n",
       "mean        0.495307     0.504693     0.517491     0.482509       0.701507   \n",
       "std         0.500014     0.500014     0.499729     0.499729       0.457629   \n",
       "min         0.000000     0.000000     0.000000     0.000000       0.000000   \n",
       "25%         0.000000     0.000000     0.000000     0.000000       0.000000   \n",
       "50%         0.000000     1.000000     1.000000     0.000000       1.000000   \n",
       "75%         1.000000     1.000000     1.000000     1.000000       1.000000   \n",
       "max         1.000000     1.000000     1.000000     1.000000       1.000000   \n",
       "\n",
       "       ...  PaymentMethod_Bank transfer (automatic)  \\\n",
       "count  ...                              7032.000000   \n",
       "mean   ...                                 0.219283   \n",
       "std    ...                                 0.413790   \n",
       "min    ...                                 0.000000   \n",
       "25%    ...                                 0.000000   \n",
       "50%    ...                                 0.000000   \n",
       "75%    ...                                 0.000000   \n",
       "max    ...                                 1.000000   \n",
       "\n",
       "       PaymentMethod_Credit card (automatic)  PaymentMethod_Electronic check  \\\n",
       "count                            7032.000000                     7032.000000   \n",
       "mean                                0.216297                        0.336320   \n",
       "std                                 0.411748                        0.472483   \n",
       "min                                 0.000000                        0.000000   \n",
       "25%                                 0.000000                        0.000000   \n",
       "50%                                 0.000000                        0.000000   \n",
       "75%                                 0.000000                        1.000000   \n",
       "max                                 1.000000                        1.000000   \n",
       "\n",
       "       PaymentMethod_Mailed check  tenure_group_1 - 12  tenure_group_13 - 24  \\\n",
       "count                 7032.000000          7032.000000            7032.00000   \n",
       "mean                     0.228100             0.309300               0.14562   \n",
       "std                      0.419637             0.462238               0.35275   \n",
       "min                      0.000000             0.000000               0.00000   \n",
       "25%                      0.000000             0.000000               0.00000   \n",
       "50%                      0.000000             0.000000               0.00000   \n",
       "75%                      0.000000             1.000000               0.00000   \n",
       "max                      1.000000             1.000000               1.00000   \n",
       "\n",
       "       tenure_group_25 - 36  tenure_group_37 - 48  tenure_group_49 - 60  \\\n",
       "count           7032.000000           7032.000000           7032.000000   \n",
       "mean               0.118316              0.108362              0.118316   \n",
       "std                0.323005              0.310859              0.323005   \n",
       "min                0.000000              0.000000              0.000000   \n",
       "25%                0.000000              0.000000              0.000000   \n",
       "50%                0.000000              0.000000              0.000000   \n",
       "75%                0.000000              0.000000              0.000000   \n",
       "max                1.000000              1.000000              1.000000   \n",
       "\n",
       "       tenure_group_61 - 72  \n",
       "count           7032.000000  \n",
       "mean               0.200085  \n",
       "std                0.400092  \n",
       "min                0.000000  \n",
       "25%                0.000000  \n",
       "50%                0.000000  \n",
       "75%                0.000000  \n",
       "max                1.000000  \n",
       "\n",
       "[8 rows x 52 columns]"
      ]
     },
     "execution_count": 7,
     "metadata": {},
     "output_type": "execute_result"
    }
   ],
   "source": [
    "# Check the descriptive statistics of numeric variables\n",
    "telco_base_data.describe()"
   ]
  },
  {
   "cell_type": "markdown",
   "metadata": {
    "_uuid": "42023cf4f351bff8a06063bffe9fe23c6ec0ab4c"
   },
   "source": [
    "SeniorCitizen is actually a categorical hence the 25%-50%-75% distribution is not propoer\n",
    "\n",
    "75% customers have tenure less than 55 months\n",
    "\n",
    "Average Monthly charges are USD 64.76 whereas 25% customers pay more than USD 89.85 per month"
   ]
  },
  {
   "cell_type": "code",
   "execution_count": 8,
   "metadata": {},
   "outputs": [
    {
     "data": {
      "image/png": "[encoded data removed]",
      "text/plain": [
       "<Figure size 800x600 with 1 Axes>"
      ]
     },
     "metadata": {},
     "output_type": "display_data"
    }
   ],
   "source": [
    "telco_base_data['Churn'].value_counts().plot(kind='barh', figsize=(8, 6))\n",
    "plt.xlabel(\"Count\", labelpad=14)\n",
    "plt.ylabel(\"Target Variable\", labelpad=14)\n",
    "plt.title(\"Count of TARGET Variable per category\", y=1.02);"
   ]
  },
  {
   "cell_type": "code",
   "execution_count": 9,
   "metadata": {},
   "outputs": [
    {
     "data": {
      "text/plain": [
       "0    73.421502\n",
       "1    26.578498\n",
       "Name: Churn, dtype: float64"
      ]
     },
     "execution_count": 9,
     "metadata": {},
     "output_type": "execute_result"
    }
   ],
   "source": [
    "100*telco_base_data['Churn'].value_counts()/len(telco_base_data['Churn'])"
   ]
  },
  {
   "cell_type": "code",
   "execution_count": 10,
   "metadata": {},
   "outputs": [
    {
     "data": {
      "text/plain": [
       "0    5163\n",
       "1    1869\n",
       "Name: Churn, dtype: int64"
      ]
     },
     "execution_count": 10,
     "metadata": {},
     "output_type": "execute_result"
    }
   ],
   "source": [
    "telco_base_data['Churn'].value_counts()"
   ]
  },
  {
   "cell_type": "markdown",
   "metadata": {},
   "source": [
    "* Data is highly imbalanced, ratio = 73:27<br>\n",
    "* So we analyse the data with other features while taking the target values separately to get some insights."
   ]
  },
  {
   "cell_type": "code",
   "execution_count": 11,
   "metadata": {},
   "outputs": [
    {
     "name": "stdout",
     "output_type": "stream",
     "text": [
      "<class 'pandas.core.frame.DataFrame'>\n",
      "RangeIndex: 7032 entries, 0 to 7031\n",
      "Data columns (total 52 columns):\n",
      " #   Column                                   Non-Null Count  Dtype  \n",
      "---  ------                                   --------------  -----  \n",
      " 0   Unnamed: 0                               7032 non-null   int64  \n",
      " 1   SeniorCitizen                            7032 non-null   int64  \n",
      " 2   MonthlyCharges                           7032 non-null   float64\n",
      " 3   TotalCharges                             7032 non-null   float64\n",
      " 4   Churn                                    7032 non-null   int64  \n",
      " 5   gender_Female                            7032 non-null   int64  \n",
      " 6   gender_Male                              7032 non-null   int64  \n",
      " 7   Partner_No                               7032 non-null   int64  \n",
      " 8   Partner_Yes                              7032 non-null   int64  \n",
      " 9   Dependents_No                            7032 non-null   int64  \n",
      " 10  Dependents_Yes                           7032 non-null   int64  \n",
      " 11  PhoneService_No                          7032 non-null   int64  \n",
      " 12  PhoneService_Yes                         7032 non-null   int64  \n",
      " 13  MultipleLines_No                         7032 non-null   int64  \n",
      " 14  MultipleLines_No phone service           7032 non-null   int64  \n",
      " 15  MultipleLines_Yes                        7032 non-null   int64  \n",
      " 16  InternetService_DSL                      7032 non-null   int64  \n",
      " 17  InternetService_Fiber optic              7032 non-null   int64  \n",
      " 18  InternetService_No                       7032 non-null   int64  \n",
      " 19  OnlineSecurity_No                        7032 non-null   int64  \n",
      " 20  OnlineSecurity_No internet service       7032 non-null   int64  \n",
      " 21  OnlineSecurity_Yes                       7032 non-null   int64  \n",
      " 22  OnlineBackup_No                          7032 non-null   int64  \n",
      " 23  OnlineBackup_No internet service         7032 non-null   int64  \n",
      " 24  OnlineBackup_Yes                         7032 non-null   int64  \n",
      " 25  DeviceProtection_No                      7032 non-null   int64  \n",
      " 26  DeviceProtection_No internet service     7032 non-null   int64  \n",
      " 27  DeviceProtection_Yes                     7032 non-null   int64  \n",
      " 28  TechSupport_No                           7032 non-null   int64  \n",
      " 29  TechSupport_No internet service          7032 non-null   int64  \n",
      " 30  TechSupport_Yes                          7032 non-null   int64  \n",
      " 31  StreamingTV_No                           7032 non-null   int64  \n",
      " 32  StreamingTV_No internet service          7032 non-null   int64  \n",
      " 33  StreamingTV_Yes                          7032 non-null   int64  \n",
      " 34  StreamingMovies_No                       7032 non-null   int64  \n",
      " 35  StreamingMovies_No internet service      7032 non-null   int64  \n",
      " 36  StreamingMovies_Yes                      7032 non-null   int64  \n",
      " 37  Contract_Month-to-month                  7032 non-null   int64  \n",
      " 38  Contract_One year                        7032 non-null   int64  \n",
      " 39  Contract_Two year                        7032 non-null   int64  \n",
      " 40  PaperlessBilling_No                      7032 non-null   int64  \n",
      " 41  PaperlessBilling_Yes                     7032 non-null   int64  \n",
      " 42  PaymentMethod_Bank transfer (automatic)  7032 non-null   int64  \n",
      " 43  PaymentMethod_Credit card (automatic)    7032 non-null   int64  \n",
      " 44  PaymentMethod_Electronic check           7032 non-null   int64  \n",
      " 45  PaymentMethod_Mailed check               7032 non-null   int64  \n",
      " 46  tenure_group_1 - 12                      7032 non-null   int64  \n",
      " 47  tenure_group_13 - 24                     7032 non-null   int64  \n",
      " 48  tenure_group_25 - 36                     7032 non-null   int64  \n",
      " 49  tenure_group_37 - 48                     7032 non-null   int64  \n",
      " 50  tenure_group_49 - 60                     7032 non-null   int64  \n",
      " 51  tenure_group_61 - 72                     7032 non-null   int64  \n",
      "dtypes: float64(2), int64(50)\n",
      "memory usage: 2.8 MB\n"
     ]
    }
   ],
   "source": [
    "# Concise Summary of the dataframe, as we have too many columns, we are using the verbose = True mode\n",
    "telco_base_data.info(verbose = True) "
   ]
  },
  {
   "cell_type": "markdown",
   "metadata": {},
   "source": [
    "### Missing Data - Initial Intuition\n",
    "\n",
    "* Here, we don't have any missing data.\n",
    "\n",
    "General Thumb Rules:\n",
    "\n",
    "* For features with less missing values- can use regression to predict the missing values or fill with the mean of the values present, depending on the feature.\n",
    "* For features with very high number of missing values- it is better to drop those columns as they give very less insight on analysis.\n",
    "* As there's no thumb rule on what criteria do we delete the columns with high number of missing values, but generally you can delete the columns, if you have more than 30-40% of missing values. But again there's a catch here, for example, Is_Car & Car_Type, People having no cars, will obviously have Car_Type as NaN (null), but that doesn't make this column useless, so decisions has to be taken wisely."
   ]
  },
  {
   "cell_type": "markdown",
   "metadata": {
    "_uuid": "f8280f2a0edda71ef51a0ecbfc12d292a40f0989"
   },
   "source": [
    "## Data Cleaning\n"
   ]
  },
  {
   "cell_type": "markdown",
   "metadata": {
    "_uuid": "3a1d2201066c4cfe149d6b71754d29ed41808539"
   },
   "source": [
    "**1.** Create a copy of base data for manupulation & processing"
   ]
  },
  {
   "cell_type": "code",
   "execution_count": 12,
   "metadata": {
    "_uuid": "121b8594ada0e9d8c2a033c8e9fafef6ea5ea755"
   },
   "outputs": [],
   "source": [
    "telco_data = telco_base_data.copy()"
   ]
  },
  {
   "cell_type": "markdown",
   "metadata": {
    "_uuid": "d29d02dd08beaaab943c0d8b5e1d896db72396a8"
   },
   "source": [
    "**2.** Total Charges should be numeric amount. Let's convert it to numerical data type"
   ]
  },
  {
   "cell_type": "code",
   "execution_count": 13,
   "metadata": {
    "_uuid": "1d2c01029124a6fe73b3ec3fc4efdb66647d64e1"
   },
   "outputs": [
    {
     "data": {
      "text/plain": [
       "Unnamed: 0                                 0\n",
       "SeniorCitizen                              0\n",
       "MonthlyCharges                             0\n",
       "TotalCharges                               0\n",
       "Churn                                      0\n",
       "gender_Female                              0\n",
       "gender_Male                                0\n",
       "Partner_No                                 0\n",
       "Partner_Yes                                0\n",
       "Dependents_No                              0\n",
       "Dependents_Yes                             0\n",
       "PhoneService_No                            0\n",
       "PhoneService_Yes                           0\n",
       "MultipleLines_No                           0\n",
       "MultipleLines_No phone service             0\n",
       "MultipleLines_Yes                          0\n",
       "InternetService_DSL                        0\n",
       "InternetService_Fiber optic                0\n",
       "InternetService_No                         0\n",
       "OnlineSecurity_No                          0\n",
       "OnlineSecurity_No internet service         0\n",
       "OnlineSecurity_Yes                         0\n",
       "OnlineBackup_No                            0\n",
       "OnlineBackup_No internet service           0\n",
       "OnlineBackup_Yes                           0\n",
       "DeviceProtection_No                        0\n",
       "DeviceProtection_No internet service       0\n",
       "DeviceProtection_Yes                       0\n",
       "TechSupport_No                             0\n",
       "TechSupport_No internet service            0\n",
       "TechSupport_Yes                            0\n",
       "StreamingTV_No                             0\n",
       "StreamingTV_No internet service            0\n",
       "StreamingTV_Yes                            0\n",
       "StreamingMovies_No                         0\n",
       "StreamingMovies_No internet service        0\n",
       "StreamingMovies_Yes                        0\n",
       "Contract_Month-to-month                    0\n",
       "Contract_One year                          0\n",
       "Contract_Two year                          0\n",
       "PaperlessBilling_No                        0\n",
       "PaperlessBilling_Yes                       0\n",
       "PaymentMethod_Bank transfer (automatic)    0\n",
       "PaymentMethod_Credit card (automatic)      0\n",
       "PaymentMethod_Electronic check             0\n",
       "PaymentMethod_Mailed check                 0\n",
       "tenure_group_1 - 12                        0\n",
       "tenure_group_13 - 24                       0\n",
       "tenure_group_25 - 36                       0\n",
       "tenure_group_37 - 48                       0\n",
       "tenure_group_49 - 60                       0\n",
       "tenure_group_61 - 72                       0\n",
       "dtype: int64"
      ]
     },
     "execution_count": 13,
     "metadata": {},
     "output_type": "execute_result"
    }
   ],
   "source": [
    "telco_data.TotalCharges = pd.to_numeric(telco_data.TotalCharges, errors='coerce')\n",
    "telco_data.isnull().sum()"
   ]
  },
  {
   "cell_type": "markdown",
   "metadata": {
    "_uuid": "87478c110cb2c8fa7e98fd89719d9ae401cc791b"
   },
   "source": [
    "**3.** As we can see there are 11 missing values in TotalCharges column. Let's check these records "
   ]
  },
  {
   "cell_type": "code",
   "execution_count": 14,
   "metadata": {
    "_uuid": "4c518b444a2697db9364fcd5038e47e485401662",
    "scrolled": false
   },
   "outputs": [
    {
     "data": {
      "text/html": [
       "<div>\n",
       "<style scoped>\n",
       "    .dataframe tbody tr th:only-of-type {\n",
       "        vertical-align: middle;\n",
       "    }\n",
       "\n",
       "    .dataframe tbody tr th {\n",
       "        vertical-align: top;\n",
       "    }\n",
       "\n",
       "    .dataframe thead th {\n",
       "        text-align: right;\n",
       "    }\n",
       "</style>\n",
       "<table border=\"1\" class=\"dataframe\">\n",
       "  <thead>\n",
       "    <tr style=\"text-align: right;\">\n",
       "      <th></th>\n",
       "      <th>Unnamed: 0</th>\n",
       "      <th>SeniorCitizen</th>\n",
       "      <th>MonthlyCharges</th>\n",
       "      <th>TotalCharges</th>\n",
       "      <th>Churn</th>\n",
       "      <th>gender_Female</th>\n",
       "      <th>gender_Male</th>\n",
       "      <th>Partner_No</th>\n",
       "      <th>Partner_Yes</th>\n",
       "      <th>Dependents_No</th>\n",
       "      <th>...</th>\n",
       "      <th>PaymentMethod_Bank transfer (automatic)</th>\n",
       "      <th>PaymentMethod_Credit card (automatic)</th>\n",
       "      <th>PaymentMethod_Electronic check</th>\n",
       "      <th>PaymentMethod_Mailed check</th>\n",
       "      <th>tenure_group_1 - 12</th>\n",
       "      <th>tenure_group_13 - 24</th>\n",
       "      <th>tenure_group_25 - 36</th>\n",
       "      <th>tenure_group_37 - 48</th>\n",
       "      <th>tenure_group_49 - 60</th>\n",
       "      <th>tenure_group_61 - 72</th>\n",
       "    </tr>\n",
       "  </thead>\n",
       "  <tbody>\n",
       "  </tbody>\n",
       "</table>\n",
       "<p>0 rows × 52 columns</p>\n",
       "</div>"
      ],
      "text/plain": [
       "Empty DataFrame\n",
       "Columns: [Unnamed: 0, SeniorCitizen, MonthlyCharges, TotalCharges, Churn, gender_Female, gender_Male, Partner_No, Partner_Yes, Dependents_No, Dependents_Yes, PhoneService_No, PhoneService_Yes, MultipleLines_No, MultipleLines_No phone service, MultipleLines_Yes, InternetService_DSL, InternetService_Fiber optic, InternetService_No, OnlineSecurity_No, OnlineSecurity_No internet service, OnlineSecurity_Yes, OnlineBackup_No, OnlineBackup_No internet service, OnlineBackup_Yes, DeviceProtection_No, DeviceProtection_No internet service, DeviceProtection_Yes, TechSupport_No, TechSupport_No internet service, TechSupport_Yes, StreamingTV_No, StreamingTV_No internet service, StreamingTV_Yes, StreamingMovies_No, StreamingMovies_No internet service, StreamingMovies_Yes, Contract_Month-to-month, Contract_One year, Contract_Two year, PaperlessBilling_No, PaperlessBilling_Yes, PaymentMethod_Bank transfer (automatic), PaymentMethod_Credit card (automatic), PaymentMethod_Electronic check, PaymentMethod_Mailed check, tenure_group_1 - 12, tenure_group_13 - 24, tenure_group_25 - 36, tenure_group_37 - 48, tenure_group_49 - 60, tenure_group_61 - 72]\n",
       "Index: []\n",
       "\n",
       "[0 rows x 52 columns]"
      ]
     },
     "execution_count": 14,
     "metadata": {},
     "output_type": "execute_result"
    }
   ],
   "source": [
    "telco_data.loc[telco_data ['TotalCharges'].isnull() == True]"
   ]
  },
  {
   "cell_type": "markdown",
   "metadata": {
    "_uuid": "7657362c1ba2d5d1582d13926e46ca0d30574e20"
   },
   "source": [
    "**4. Missing Value Treatement**"
   ]
  },
  {
   "cell_type": "markdown",
   "metadata": {
    "_uuid": "4c997dec9dbb501333f6a1562e9092e1008df58f"
   },
   "source": [
    "Since the % of these records compared to total dataset is very low ie 0.15%, it is safe to ignore them from further processing."
   ]
  },
  {
   "cell_type": "code",
   "execution_count": 15,
   "metadata": {
    "_uuid": "cfd79280abe1d2238776bea1fdb7575c90a160bb"
   },
   "outputs": [],
   "source": [
    "#Removing missing values \n",
    "telco_data.dropna(how = 'any', inplace = True)\n",
    "\n",
    "#telco_data.fillna(0)"
   ]
  },
  {
   "cell_type": "markdown",
   "metadata": {
    "_uuid": "f287bc221478ee7f8945942f111e9f457f446218"
   },
   "source": [
    "**5.** Divide customers into bins based on tenure e.g. for tenure < 12 months: assign a tenure group if 1-12, for tenure between 1 to 2 Yrs, tenure group of 13-24; so on..."
   ]
  },
  {
   "cell_type": "code",
   "execution_count": 16,
   "metadata": {
    "_uuid": "35b6c18a5b84dd1e5fa014b49fcfce8ee43aaabe"
   },
   "outputs": [
    {
     "ename": "KeyError",
     "evalue": "'tenure'",
     "output_type": "error",
     "traceback": [
      "\u001b[1;31m---------------------------------------------------------------------------\u001b[0m",
      "\u001b[1;31mKeyError\u001b[0m                                  Traceback (most recent call last)",
      "File \u001b[1;32m~\\anaconda3\\Lib\\site-packages\\pandas\\core\\indexes\\base.py:3802\u001b[0m, in \u001b[0;36mIndex.get_loc\u001b[1;34m(self, key, method, tolerance)\u001b[0m\n\u001b[0;32m   3801\u001b[0m \u001b[38;5;28;01mtry\u001b[39;00m:\n\u001b[1;32m-> 3802\u001b[0m     \u001b[38;5;28;01mreturn\u001b[39;00m \u001b[38;5;28mself\u001b[39m\u001b[38;5;241m.\u001b[39m_engine\u001b[38;5;241m.\u001b[39mget_loc(casted_key)\n\u001b[0;32m   3803\u001b[0m \u001b[38;5;28;01mexcept\u001b[39;00m \u001b[38;5;167;01mKeyError\u001b[39;00m \u001b[38;5;28;01mas\u001b[39;00m err:\n",
      "File \u001b[1;32m~\\anaconda3\\Lib\\site-packages\\pandas\\_libs\\index.pyx:138\u001b[0m, in \u001b[0;36mpandas._libs.index.IndexEngine.get_loc\u001b[1;34m()\u001b[0m\n",
      "File \u001b[1;32m~\\anaconda3\\Lib\\site-packages\\pandas\\_libs\\index.pyx:165\u001b[0m, in \u001b[0;36mpandas._libs.index.IndexEngine.get_loc\u001b[1;34m()\u001b[0m\n",
      "File \u001b[1;32mpandas\\_libs\\hashtable_class_helper.pxi:5745\u001b[0m, in \u001b[0;36mpandas._libs.hashtable.PyObjectHashTable.get_item\u001b[1;34m()\u001b[0m\n",
      "File \u001b[1;32mpandas\\_libs\\hashtable_class_helper.pxi:5753\u001b[0m, in \u001b[0;36mpandas._libs.hashtable.PyObjectHashTable.get_item\u001b[1;34m()\u001b[0m\n",
      "\u001b[1;31mKeyError\u001b[0m: 'tenure'",
      "\nThe above exception was the direct cause of the following exception:\n",
      "\u001b[1;31mKeyError\u001b[0m                                  Traceback (most recent call last)",
      "Cell \u001b[1;32mIn[16], line 2\u001b[0m\n\u001b[0;32m      1\u001b[0m \u001b[38;5;66;03m# Get the max tenure\u001b[39;00m\n\u001b[1;32m----> 2\u001b[0m \u001b[38;5;28mprint\u001b[39m(telco_data[\u001b[38;5;124m'\u001b[39m\u001b[38;5;124mtenure\u001b[39m\u001b[38;5;124m'\u001b[39m]\u001b[38;5;241m.\u001b[39mmax())\n",
      "File \u001b[1;32m~\\anaconda3\\Lib\\site-packages\\pandas\\core\\frame.py:3807\u001b[0m, in \u001b[0;36mDataFrame.__getitem__\u001b[1;34m(self, key)\u001b[0m\n\u001b[0;32m   3805\u001b[0m \u001b[38;5;28;01mif\u001b[39;00m \u001b[38;5;28mself\u001b[39m\u001b[38;5;241m.\u001b[39mcolumns\u001b[38;5;241m.\u001b[39mnlevels \u001b[38;5;241m>\u001b[39m \u001b[38;5;241m1\u001b[39m:\n\u001b[0;32m   3806\u001b[0m     \u001b[38;5;28;01mreturn\u001b[39;00m \u001b[38;5;28mself\u001b[39m\u001b[38;5;241m.\u001b[39m_getitem_multilevel(key)\n\u001b[1;32m-> 3807\u001b[0m indexer \u001b[38;5;241m=\u001b[39m \u001b[38;5;28mself\u001b[39m\u001b[38;5;241m.\u001b[39mcolumns\u001b[38;5;241m.\u001b[39mget_loc(key)\n\u001b[0;32m   3808\u001b[0m \u001b[38;5;28;01mif\u001b[39;00m is_integer(indexer):\n\u001b[0;32m   3809\u001b[0m     indexer \u001b[38;5;241m=\u001b[39m [indexer]\n",
      "File \u001b[1;32m~\\anaconda3\\Lib\\site-packages\\pandas\\core\\indexes\\base.py:3804\u001b[0m, in \u001b[0;36mIndex.get_loc\u001b[1;34m(self, key, method, tolerance)\u001b[0m\n\u001b[0;32m   3802\u001b[0m     \u001b[38;5;28;01mreturn\u001b[39;00m \u001b[38;5;28mself\u001b[39m\u001b[38;5;241m.\u001b[39m_engine\u001b[38;5;241m.\u001b[39mget_loc(casted_key)\n\u001b[0;32m   3803\u001b[0m \u001b[38;5;28;01mexcept\u001b[39;00m \u001b[38;5;167;01mKeyError\u001b[39;00m \u001b[38;5;28;01mas\u001b[39;00m err:\n\u001b[1;32m-> 3804\u001b[0m     \u001b[38;5;28;01mraise\u001b[39;00m \u001b[38;5;167;01mKeyError\u001b[39;00m(key) \u001b[38;5;28;01mfrom\u001b[39;00m \u001b[38;5;21;01merr\u001b[39;00m\n\u001b[0;32m   3805\u001b[0m \u001b[38;5;28;01mexcept\u001b[39;00m \u001b[38;5;167;01mTypeError\u001b[39;00m:\n\u001b[0;32m   3806\u001b[0m     \u001b[38;5;66;03m# If we have a listlike key, _check_indexing_error will raise\u001b[39;00m\n\u001b[0;32m   3807\u001b[0m     \u001b[38;5;66;03m#  InvalidIndexError. Otherwise we fall through and re-raise\u001b[39;00m\n\u001b[0;32m   3808\u001b[0m     \u001b[38;5;66;03m#  the TypeError.\u001b[39;00m\n\u001b[0;32m   3809\u001b[0m     \u001b[38;5;28mself\u001b[39m\u001b[38;5;241m.\u001b[39m_check_indexing_error(key)\n",
      "\u001b[1;31mKeyError\u001b[0m: 'tenure'"
     ]
    }
   ],
   "source": [
    "# Get the max tenure\n",
    "print(telco_data['tenure'].max()) #72"
   ]
  },
  {
   "cell_type": "code",
   "execution_count": 17,
   "metadata": {},
   "outputs": [
    {
     "ename": "AttributeError",
     "evalue": "'DataFrame' object has no attribute 'tenure'",
     "output_type": "error",
     "traceback": [
      "\u001b[1;31m---------------------------------------------------------------------------\u001b[0m",
      "\u001b[1;31mAttributeError\u001b[0m                            Traceback (most recent call last)",
      "Cell \u001b[1;32mIn[17], line 4\u001b[0m\n\u001b[0;32m      1\u001b[0m \u001b[38;5;66;03m# Group the tenure in bins of 12 months\u001b[39;00m\n\u001b[0;32m      2\u001b[0m labels \u001b[38;5;241m=\u001b[39m [\u001b[38;5;124m\"\u001b[39m\u001b[38;5;132;01m{0}\u001b[39;00m\u001b[38;5;124m - \u001b[39m\u001b[38;5;132;01m{1}\u001b[39;00m\u001b[38;5;124m\"\u001b[39m\u001b[38;5;241m.\u001b[39mformat(i, i \u001b[38;5;241m+\u001b[39m \u001b[38;5;241m11\u001b[39m) \u001b[38;5;28;01mfor\u001b[39;00m i \u001b[38;5;129;01min\u001b[39;00m \u001b[38;5;28mrange\u001b[39m(\u001b[38;5;241m1\u001b[39m, \u001b[38;5;241m72\u001b[39m, \u001b[38;5;241m12\u001b[39m)]\n\u001b[1;32m----> 4\u001b[0m telco_data[\u001b[38;5;124m'\u001b[39m\u001b[38;5;124mtenure_group\u001b[39m\u001b[38;5;124m'\u001b[39m] \u001b[38;5;241m=\u001b[39m pd\u001b[38;5;241m.\u001b[39mcut(telco_data\u001b[38;5;241m.\u001b[39mtenure, \u001b[38;5;28mrange\u001b[39m(\u001b[38;5;241m1\u001b[39m, \u001b[38;5;241m80\u001b[39m, \u001b[38;5;241m12\u001b[39m), right\u001b[38;5;241m=\u001b[39m\u001b[38;5;28;01mFalse\u001b[39;00m, labels\u001b[38;5;241m=\u001b[39mlabels)\n",
      "File \u001b[1;32m~\\anaconda3\\Lib\\site-packages\\pandas\\core\\generic.py:5902\u001b[0m, in \u001b[0;36mNDFrame.__getattr__\u001b[1;34m(self, name)\u001b[0m\n\u001b[0;32m   5895\u001b[0m \u001b[38;5;28;01mif\u001b[39;00m (\n\u001b[0;32m   5896\u001b[0m     name \u001b[38;5;129;01mnot\u001b[39;00m \u001b[38;5;129;01min\u001b[39;00m \u001b[38;5;28mself\u001b[39m\u001b[38;5;241m.\u001b[39m_internal_names_set\n\u001b[0;32m   5897\u001b[0m     \u001b[38;5;129;01mand\u001b[39;00m name \u001b[38;5;129;01mnot\u001b[39;00m \u001b[38;5;129;01min\u001b[39;00m \u001b[38;5;28mself\u001b[39m\u001b[38;5;241m.\u001b[39m_metadata\n\u001b[0;32m   5898\u001b[0m     \u001b[38;5;129;01mand\u001b[39;00m name \u001b[38;5;129;01mnot\u001b[39;00m \u001b[38;5;129;01min\u001b[39;00m \u001b[38;5;28mself\u001b[39m\u001b[38;5;241m.\u001b[39m_accessors\n\u001b[0;32m   5899\u001b[0m     \u001b[38;5;129;01mand\u001b[39;00m \u001b[38;5;28mself\u001b[39m\u001b[38;5;241m.\u001b[39m_info_axis\u001b[38;5;241m.\u001b[39m_can_hold_identifiers_and_holds_name(name)\n\u001b[0;32m   5900\u001b[0m ):\n\u001b[0;32m   5901\u001b[0m     \u001b[38;5;28;01mreturn\u001b[39;00m \u001b[38;5;28mself\u001b[39m[name]\n\u001b[1;32m-> 5902\u001b[0m \u001b[38;5;28;01mreturn\u001b[39;00m \u001b[38;5;28mobject\u001b[39m\u001b[38;5;241m.\u001b[39m\u001b[38;5;21m__getattribute__\u001b[39m(\u001b[38;5;28mself\u001b[39m, name)\n",
      "\u001b[1;31mAttributeError\u001b[0m: 'DataFrame' object has no attribute 'tenure'"
     ]
    }
   ],
   "source": [
    "# Group the tenure in bins of 12 months\n",
    "labels = [\"{0} - {1}\".format(i, i + 11) for i in range(1, 72, 12)]\n",
    "\n",
    "telco_data['tenure_group'] = pd.cut(telco_data.tenure, range(1, 80, 12), right=False, labels=labels)"
   ]
  },
  {
   "cell_type": "code",
   "execution_count": 18,
   "metadata": {},
   "outputs": [
    {
     "ename": "KeyError",
     "evalue": "'tenure_group'",
     "output_type": "error",
     "traceback": [
      "\u001b[1;31m---------------------------------------------------------------------------\u001b[0m",
      "\u001b[1;31mKeyError\u001b[0m                                  Traceback (most recent call last)",
      "File \u001b[1;32m~\\anaconda3\\Lib\\site-packages\\pandas\\core\\indexes\\base.py:3802\u001b[0m, in \u001b[0;36mIndex.get_loc\u001b[1;34m(self, key, method, tolerance)\u001b[0m\n\u001b[0;32m   3801\u001b[0m \u001b[38;5;28;01mtry\u001b[39;00m:\n\u001b[1;32m-> 3802\u001b[0m     \u001b[38;5;28;01mreturn\u001b[39;00m \u001b[38;5;28mself\u001b[39m\u001b[38;5;241m.\u001b[39m_engine\u001b[38;5;241m.\u001b[39mget_loc(casted_key)\n\u001b[0;32m   3803\u001b[0m \u001b[38;5;28;01mexcept\u001b[39;00m \u001b[38;5;167;01mKeyError\u001b[39;00m \u001b[38;5;28;01mas\u001b[39;00m err:\n",
      "File \u001b[1;32m~\\anaconda3\\Lib\\site-packages\\pandas\\_libs\\index.pyx:138\u001b[0m, in \u001b[0;36mpandas._libs.index.IndexEngine.get_loc\u001b[1;34m()\u001b[0m\n",
      "File \u001b[1;32m~\\anaconda3\\Lib\\site-packages\\pandas\\_libs\\index.pyx:165\u001b[0m, in \u001b[0;36mpandas._libs.index.IndexEngine.get_loc\u001b[1;34m()\u001b[0m\n",
      "File \u001b[1;32mpandas\\_libs\\hashtable_class_helper.pxi:5745\u001b[0m, in \u001b[0;36mpandas._libs.hashtable.PyObjectHashTable.get_item\u001b[1;34m()\u001b[0m\n",
      "File \u001b[1;32mpandas\\_libs\\hashtable_class_helper.pxi:5753\u001b[0m, in \u001b[0;36mpandas._libs.hashtable.PyObjectHashTable.get_item\u001b[1;34m()\u001b[0m\n",
      "\u001b[1;31mKeyError\u001b[0m: 'tenure_group'",
      "\nThe above exception was the direct cause of the following exception:\n",
      "\u001b[1;31mKeyError\u001b[0m                                  Traceback (most recent call last)",
      "Cell \u001b[1;32mIn[18], line 1\u001b[0m\n\u001b[1;32m----> 1\u001b[0m telco_data[\u001b[38;5;124m'\u001b[39m\u001b[38;5;124mtenure_group\u001b[39m\u001b[38;5;124m'\u001b[39m]\u001b[38;5;241m.\u001b[39mvalue_counts()\n",
      "File \u001b[1;32m~\\anaconda3\\Lib\\site-packages\\pandas\\core\\frame.py:3807\u001b[0m, in \u001b[0;36mDataFrame.__getitem__\u001b[1;34m(self, key)\u001b[0m\n\u001b[0;32m   3805\u001b[0m \u001b[38;5;28;01mif\u001b[39;00m \u001b[38;5;28mself\u001b[39m\u001b[38;5;241m.\u001b[39mcolumns\u001b[38;5;241m.\u001b[39mnlevels \u001b[38;5;241m>\u001b[39m \u001b[38;5;241m1\u001b[39m:\n\u001b[0;32m   3806\u001b[0m     \u001b[38;5;28;01mreturn\u001b[39;00m \u001b[38;5;28mself\u001b[39m\u001b[38;5;241m.\u001b[39m_getitem_multilevel(key)\n\u001b[1;32m-> 3807\u001b[0m indexer \u001b[38;5;241m=\u001b[39m \u001b[38;5;28mself\u001b[39m\u001b[38;5;241m.\u001b[39mcolumns\u001b[38;5;241m.\u001b[39mget_loc(key)\n\u001b[0;32m   3808\u001b[0m \u001b[38;5;28;01mif\u001b[39;00m is_integer(indexer):\n\u001b[0;32m   3809\u001b[0m     indexer \u001b[38;5;241m=\u001b[39m [indexer]\n",
      "File \u001b[1;32m~\\anaconda3\\Lib\\site-packages\\pandas\\core\\indexes\\base.py:3804\u001b[0m, in \u001b[0;36mIndex.get_loc\u001b[1;34m(self, key, method, tolerance)\u001b[0m\n\u001b[0;32m   3802\u001b[0m     \u001b[38;5;28;01mreturn\u001b[39;00m \u001b[38;5;28mself\u001b[39m\u001b[38;5;241m.\u001b[39m_engine\u001b[38;5;241m.\u001b[39mget_loc(casted_key)\n\u001b[0;32m   3803\u001b[0m \u001b[38;5;28;01mexcept\u001b[39;00m \u001b[38;5;167;01mKeyError\u001b[39;00m \u001b[38;5;28;01mas\u001b[39;00m err:\n\u001b[1;32m-> 3804\u001b[0m     \u001b[38;5;28;01mraise\u001b[39;00m \u001b[38;5;167;01mKeyError\u001b[39;00m(key) \u001b[38;5;28;01mfrom\u001b[39;00m \u001b[38;5;21;01merr\u001b[39;00m\n\u001b[0;32m   3805\u001b[0m \u001b[38;5;28;01mexcept\u001b[39;00m \u001b[38;5;167;01mTypeError\u001b[39;00m:\n\u001b[0;32m   3806\u001b[0m     \u001b[38;5;66;03m# If we have a listlike key, _check_indexing_error will raise\u001b[39;00m\n\u001b[0;32m   3807\u001b[0m     \u001b[38;5;66;03m#  InvalidIndexError. Otherwise we fall through and re-raise\u001b[39;00m\n\u001b[0;32m   3808\u001b[0m     \u001b[38;5;66;03m#  the TypeError.\u001b[39;00m\n\u001b[0;32m   3809\u001b[0m     \u001b[38;5;28mself\u001b[39m\u001b[38;5;241m.\u001b[39m_check_indexing_error(key)\n",
      "\u001b[1;31mKeyError\u001b[0m: 'tenure_group'"
     ]
    }
   ],
   "source": [
    "telco_data['tenure_group'].value_counts()"
   ]
  },
  {
   "cell_type": "markdown",
   "metadata": {
    "_uuid": "c36ca32d5de932c55480842c31ef9b2ed657526c"
   },
   "source": [
    "**6.** Remove columns not required for processing"
   ]
  },
  {
   "cell_type": "code",
   "execution_count": null,
   "metadata": {
    "_uuid": "d95aa107c0ef519ea7e87a65a5fd41592dfa4091"
   },
   "outputs": [],
   "source": [
    "#drop column customerID and tenure\n",
    "telco_data.drop(columns= ['customerID','tenure'], axis=1, inplace=True)\n",
    "telco_data.head()"
   ]
  },
  {
   "cell_type": "markdown",
   "metadata": {
    "_uuid": "0339847e7ebf56e073d045b5b6c9296e7010d37b"
   },
   "source": [
    "## Data Exploration\n",
    "**1. ** Plot distibution of individual predictors by churn"
   ]
  },
  {
   "cell_type": "markdown",
   "metadata": {},
   "source": [
    "### Univariate Analysis"
   ]
  },
  {
   "cell_type": "code",
   "execution_count": null,
   "metadata": {
    "_uuid": "284f24631775ab8af6b43ce2e0269ddeb5c424c6",
    "scrolled": true
   },
   "outputs": [],
   "source": [
    "for i, predictor in enumerate(telco_data.drop(columns=['Churn', 'TotalCharges', 'MonthlyCharges'])):\n",
    "    plt.figure(i)\n",
    "    sns.countplot(data=telco_data, x=predictor, hue='Churn')"
   ]
  },
  {
   "cell_type": "markdown",
   "metadata": {
    "_uuid": "ef3b7da7e8098c932689dea77fd8cbde162b52cb"
   },
   "source": [
    "**2.** Convert the target variable 'Churn'  in a binary numeric variable i.e. Yes=1 ; No = 0"
   ]
  },
  {
   "cell_type": "code",
   "execution_count": null,
   "metadata": {
    "_uuid": "a7ef7e130a32d73e886f0b4fa17d3f924fb5830a"
   },
   "outputs": [],
   "source": [
    "telco_data['Churn'] = np.where(telco_data.Churn == 'Yes',1,0)"
   ]
  },
  {
   "cell_type": "code",
   "execution_count": null,
   "metadata": {
    "_uuid": "44d677eed9647fde82fa5eb2479918c9c9713362"
   },
   "outputs": [],
   "source": [
    "telco_data.head()"
   ]
  },
  {
   "cell_type": "markdown",
   "metadata": {
    "_uuid": "a5573e75c6d2e700b1ca0f85f7b9b275094126da"
   },
   "source": [
    "**3.** Convert all the categorical variables into dummy variables"
   ]
  },
  {
   "cell_type": "code",
   "execution_count": null,
   "metadata": {
    "_uuid": "b0aee7309706a4c00a0c07fc831329495da630ce",
    "scrolled": true
   },
   "outputs": [],
   "source": [
    "telco_data_dummies = pd.get_dummies(telco_data)\n",
    "telco_data_dummies.head()"
   ]
  },
  {
   "cell_type": "markdown",
   "metadata": {
    "_uuid": "bde233534639a29066109e9061737460134e1c08"
   },
   "source": [
    "**9. ** Relationship between Monthly Charges and Total Charges"
   ]
  },
  {
   "cell_type": "code",
   "execution_count": null,
   "metadata": {
    "_uuid": "1780f7d5cd6125ca347e6023b1d1e871fe36fde0"
   },
   "outputs": [],
   "source": [
    "sns.lmplot(data=telco_data_dummies, x='MonthlyCharges', y='TotalCharges', fit_reg=False)"
   ]
  },
  {
   "cell_type": "markdown",
   "metadata": {
    "_uuid": "9f5f9a41d7fc4eef9b8f9b04afbc3aceb3b41853"
   },
   "source": [
    "Total Charges increase as Monthly Charges increase - as expected."
   ]
  },
  {
   "cell_type": "markdown",
   "metadata": {
    "_uuid": "0b1896f1313b88e3e8b65c97aec56d2b96e87e21"
   },
   "source": [
    "**10. ** Churn by Monthly Charges and Total Charges"
   ]
  },
  {
   "cell_type": "code",
   "execution_count": null,
   "metadata": {
    "_uuid": "3579147afd1d8bad3dd8ffcbdf4cbba5f5f5876d"
   },
   "outputs": [],
   "source": [
    "Mth = sns.kdeplot(telco_data_dummies.MonthlyCharges[(telco_data_dummies[\"Churn\"] == 0) ],\n",
    "                color=\"Red\", shade = True)\n",
    "Mth = sns.kdeplot(telco_data_dummies.MonthlyCharges[(telco_data_dummies[\"Churn\"] == 1) ],\n",
    "                ax =Mth, color=\"Blue\", shade= True)\n",
    "Mth.legend([\"No Churn\",\"Churn\"],loc='upper right')\n",
    "Mth.set_ylabel('Density')\n",
    "Mth.set_xlabel('Monthly Charges')\n",
    "Mth.set_title('Monthly charges by churn')"
   ]
  },
  {
   "cell_type": "markdown",
   "metadata": {
    "_uuid": "758d5e017471d335a3947ea72b47980f93edda93"
   },
   "source": [
    "**Insight:** Churn is high when Monthly Charges ar high"
   ]
  },
  {
   "cell_type": "code",
   "execution_count": null,
   "metadata": {
    "_uuid": "0ff1683e472c29da849a00083cd2f45acdbb14b9"
   },
   "outputs": [],
   "source": [
    "Tot = sns.kdeplot(telco_data_dummies.TotalCharges[(telco_data_dummies[\"Churn\"] == 0) ],\n",
    "                color=\"Red\", shade = True)\n",
    "Tot = sns.kdeplot(telco_data_dummies.TotalCharges[(telco_data_dummies[\"Churn\"] == 1) ],\n",
    "                ax =Tot, color=\"Blue\", shade= True)\n",
    "Tot.legend([\"No Churn\",\"Churn\"],loc='upper right')\n",
    "Tot.set_ylabel('Density')\n",
    "Tot.set_xlabel('Total Charges')\n",
    "Tot.set_title('Total charges by churn')"
   ]
  },
  {
   "cell_type": "markdown",
   "metadata": {
    "_uuid": "52abae69d9243dce608dfa63a0ebe12de83e7eff"
   },
   "source": [
    "**Surprising insight ** as higher Churn at lower Total Charges\n",
    "\n",
    "However if we combine the insights of 3 parameters i.e. Tenure, Monthly Charges & Total Charges then the picture is bit clear :- Higher Monthly Charge at lower tenure results into lower Total Charge. Hence, all these 3 factors viz **Higher Monthly Charge**,  **Lower tenure** and **Lower Total Charge** are linkd to **High Churn**."
   ]
  },
  {
   "cell_type": "markdown",
   "metadata": {
    "_uuid": "ddd26520d541b1a3d17848e73d4cd6b3fbdc32d5"
   },
   "source": [
    "**11. Build a corelation of all predictors with 'Churn' **"
   ]
  },
  {
   "cell_type": "code",
   "execution_count": null,
   "metadata": {
    "_uuid": "57fad0b9bcd9188193c84ae48ea589123532eac8"
   },
   "outputs": [],
   "source": [
    "plt.figure(figsize=(60,20))\n",
    "corr = telco_data_dummies.apply(lambda x: pd.factorize(x)[0]).corr()\n",
    "mask = np.triu(np.ones_like(corr, dtype=bool))\n",
    "ax = sns.heatmap(corr, mask=mask, xticklabels=corr.columns, yticklabels=corr.columns, annot=True, linewidths=.2, cmap='coolwarm', vmin=-1, vmax=1)"
   ]
  },
  {
   "cell_type": "markdown",
   "metadata": {
    "_uuid": "e4f114358ce3d568a34c1ac419623274a345812e"
   },
   "source": [
    "**Derived Insight: **\n",
    "\n",
    "**HIGH** Churn seen in case of  **Month to month contracts**, **No online security**, **No Tech support**, **First year of subscription** and **Fibre Optics Internet**\n",
    "\n",
    "**LOW** Churn is seens in case of **Long term contracts**, **Subscriptions without internet service** and **The customers engaged for 5+ years**\n",
    "\n",
    "Factors like **Gender**, **Availability of PhoneService** and **# of multiple lines** have alomost **NO** impact on Churn\n",
    "\n",
    "This is also evident from the **Heatmap** below"
   ]
  },
  {
   "cell_type": "code",
   "execution_count": null,
   "metadata": {
    "_uuid": "9cafbb06245f6162da782bf0aa99faa3f6f9029d"
   },
   "outputs": [],
   "source": [
    "plt.figure(figsize=(12,12))\n",
    "sns.heatmap(telco_data_dummies.corr(), cmap=\"Paired\")"
   ]
  },
  {
   "cell_type": "markdown",
   "metadata": {
    "_uuid": "53befd3d7cceb497a7426deb30a7884e20a47ad7"
   },
   "source": []
  },
  {
   "cell_type": "markdown",
   "metadata": {},
   "source": [
    "### Bivariate Analysis"
   ]
  },
  {
   "cell_type": "code",
   "execution_count": null,
   "metadata": {},
   "outputs": [],
   "source": [
    "new_df1_target0=telco_data.loc[telco_data[\"Churn\"]==0]\n",
    "new_df1_target1=telco_data.loc[telco_data[\"Churn\"]==1]"
   ]
  },
  {
   "cell_type": "code",
   "execution_count": null,
   "metadata": {},
   "outputs": [],
   "source": [
    "def uniplot(df,col,title,hue =None):\n",
    "    \n",
    "    sns.set_style('whitegrid')\n",
    "    sns.set_context('talk')\n",
    "    plt.rcParams[\"axes.labelsize\"] = 20\n",
    "    plt.rcParams['axes.titlesize'] = 22\n",
    "    plt.rcParams['axes.titlepad'] = 30\n",
    "    \n",
    "    \n",
    "    temp = pd.Series(data = hue)\n",
    "    fig, ax = plt.subplots()\n",
    "    width = len(df[col].unique()) + 7 + 4*len(temp.unique())\n",
    "    fig.set_size_inches(width , 8)\n",
    "    plt.xticks(rotation=45)\n",
    "    plt.yscale('log')\n",
    "    plt.title(title)\n",
    "    ax = sns.countplot(data = df, x= col, order=df[col].value_counts().index,hue = hue,palette='bright') \n",
    "        \n",
    "    plt.show()"
   ]
  },
  {
   "cell_type": "code",
   "execution_count": null,
   "metadata": {},
   "outputs": [],
   "source": [
    "uniplot(new_df1_target1,col='Partner',title='Distribution of Gender for Churned Customers',hue='gender')"
   ]
  },
  {
   "cell_type": "code",
   "execution_count": null,
   "metadata": {
    "scrolled": true
   },
   "outputs": [],
   "source": [
    "uniplot(new_df1_target0,col='Partner',title='Distribution of Gender for Non Churned Customers',hue='gender')"
   ]
  },
  {
   "cell_type": "code",
   "execution_count": null,
   "metadata": {
    "scrolled": true
   },
   "outputs": [],
   "source": [
    "uniplot(new_df1_target1,col='PaymentMethod',title='Distribution of PaymentMethod for Churned Customers',hue='gender')"
   ]
  },
  {
   "cell_type": "code",
   "execution_count": null,
   "metadata": {
    "scrolled": true
   },
   "outputs": [],
   "source": [
    "uniplot(new_df1_target1,col='Contract',title='Distribution of Contract for Churned Customers',hue='gender')"
   ]
  },
  {
   "cell_type": "code",
   "execution_count": null,
   "metadata": {
    "scrolled": true
   },
   "outputs": [],
   "source": [
    "uniplot(new_df1_target1,col='TechSupport',title='Distribution of TechSupport for Churned Customers',hue='gender')"
   ]
  },
  {
   "cell_type": "code",
   "execution_count": null,
   "metadata": {
    "scrolled": true
   },
   "outputs": [],
   "source": [
    "uniplot(new_df1_target1,col='SeniorCitizen',title='Distribution of SeniorCitizen for Churned Customers',hue='gender')"
   ]
  },
  {
   "cell_type": "markdown",
   "metadata": {},
   "source": [
    "# CONCLUSION"
   ]
  },
  {
   "cell_type": "markdown",
   "metadata": {},
   "source": [
    "1. Electronic check medium are the highest churners\n",
    "2. Contract Type - Monthly customers are more likely to churn because of no contract terms, as they are free to go customers.\n",
    "3. No Online security, No Tech Support category are high churners\n",
    "4. Non senior Citizens are high churners"
   ]
  },
  {
   "cell_type": "code",
   "execution_count": null,
   "metadata": {},
   "outputs": [],
   "source": [
    "telco_data_dummies.to_csv('tel_churn.csv')"
   ]
  },
  {
   "cell_type": "code",
   "execution_count": null,
   "metadata": {},
   "outputs": [],
   "source": [
    "telco_base_data['CLTV_proxy'] = telco_base_data['tenure'] * telco_base_data['MonthlyCharges']\n",
    "telco_base_data['Revenue_proxy'] = telco_base_data['TotalCharges']\n",
    "print(telco_base_data.head())\n",
    "quartiles = pd.qcut(telco_base_data['CLTV_proxy'], q=4, labels=['Low', 'Medium-Low', 'Medium-High', 'High'])\n",
    "telco_base_data['CLTV_Quartile'] = quartiles\n",
    "print(telco_base_data.head())"
   ]
  },
  {
   "cell_type": "code",
   "execution_count": null,
   "metadata": {},
   "outputs": [],
   "source": [
    "quartile_ranges =telco_base_data .groupby('CLTV_Quartile')['CLTV_proxy'].agg(['min', 'max'])\n",
    "print(quartile_ranges)"
   ]
  },
  {
   "cell_type": "code",
   "execution_count": null,
   "metadata": {},
   "outputs": [],
   "source": [
    "telco_base_data ['Revenue_proxy'] = pd.to_numeric(telco_base_data ['Revenue_proxy'], errors='coerce')\n",
    "total_revenue = telco_base_data ['Revenue_proxy'].sum()\n",
    "print(\"Total Revenue:\", total_revenue)\n",
    "num_customers = len(telco_base_data)\n",
    "average_revenue = total_revenue / num_customers\n",
    "print(\"Average Revenue:\", average_revenue)\n",
    "quartile_revenue = telco_base_data .groupby('CLTV_Quartile')['Revenue_proxy'].sum()\n",
    "quartile_customers = telco_base_data ['CLTV_Quartile'].value_counts()\n",
    "quartile_average_revenue = quartile_revenue / quartile_customers\n",
    "value_added_by_quartile = quartile_revenue - (quartile_customers * average_revenue)\n",
    "print(\"Value Added by Each Quartile Compared to Average Revenue per Customer:\")\n",
    "print(value_added_by_quartile)"
   ]
  },
  {
   "cell_type": "markdown",
   "metadata": {},
   "source": [
    "now it can be clearly seen that high quartile is adding a lot of value so we must try our best to capitalize this and try to reduce churn rate among High quartile so we will perform a basic eda over it and try to increase retention i.e. tenure by any means "
   ]
  },
  {
   "cell_type": "code",
   "execution_count": null,
   "metadata": {},
   "outputs": [],
   "source": [
    "high_cltv_customers = telco_base_data[telco_base_data['CLTV_Quartile'] == 'High']\n",
    "\n",
    "# Display the new DataFrame containing only high CLTV customers\n",
    "print(high_cltv_customers)"
   ]
  },
  {
   "cell_type": "code",
   "execution_count": null,
   "metadata": {},
   "outputs": [],
   "source": [
    "telco_base_data.head()"
   ]
  },
  {
   "cell_type": "code",
   "execution_count": null,
   "metadata": {},
   "outputs": [],
   "source": [
    "data['CLTV_Quartile'] = pd.to_numeric(data['CLTV_Quartile'], errors='coerce')\n",
    "\n",
    "# Define high-value customers based on CLTV quartiles or any other metric\n",
    "high_value_customers = data[data['CLTV_Quartile'] == 'High']\n",
    "\n",
    "# Churn Analysis\n",
    "churn_rate_high_value = high_value_customers['Churn'].mean()\n",
    "print(\"Churn Rate among High-Value Customers:\", churn_rate_high_value)\n",
    "\n",
    "# Segmentation Analysis\n",
    "# Here's a simple example of demographic analysis:\n",
    "gender_counts = high_value_customers['gender'].value_counts()\n",
    "print(\"\\nGender Distribution among High-Value Customers:\")\n",
    "print(gender_counts)\n",
    "\n",
    "partner_counts = high_value_customers['Partner'].value_counts()\n",
    "print(\"\\nPartner Distribution among High-Value Customers:\")\n",
    "print(partner_counts)"
   ]
  }
 ],
 "metadata": {
  "kernelspec": {
   "display_name": "Python 3 (ipykernel)",
   "language": "python",
   "name": "python3"
  },
  "language_info": {
   "codemirror_mode": {
    "name": "ipython",
    "version": 3
   },
   "file_extension": ".py",
   "mimetype": "text/x-python",
   "name": "python",
   "nbconvert_exporter": "python",
   "pygments_lexer": "ipython3",
   "version": "3.11.4"
  }
 },
 "nbformat": 4,
 "nbformat_minor": 1
}
